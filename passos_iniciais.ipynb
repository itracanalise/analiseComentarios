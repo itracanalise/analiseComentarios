{
 "cells": [
  {
   "cell_type": "code",
   "execution_count": null,
   "id": "b64435d9-3aa1-46cf-823f-74519da7eceb",
   "metadata": {},
   "outputs": [],
   "source": [
    "import pandas as pd"
   ]
  },
  {
   "cell_type": "code",
   "execution_count": null,
   "id": "aa4d2213-c20e-403f-a28d-704eacf0bd6a",
   "metadata": {},
   "outputs": [],
   "source": [
    "df = pd.read_csv('./General_Data.csv')"
   ]
  },
  {
   "cell_type": "code",
   "execution_count": null,
   "id": "c1a2d885-b555-44ff-8168-b0ae97012398",
   "metadata": {},
   "outputs": [],
   "source": [
    "len(df)"
   ]
  },
  {
   "cell_type": "code",
   "execution_count": null,
   "id": "a9bac63c-4e6e-435d-9f80-7152e7802a3f",
   "metadata": {},
   "outputs": [],
   "source": [
    "df.head(4)"
   ]
  },
  {
   "cell_type": "code",
   "execution_count": null,
   "id": "97d1781f-7ba1-47a0-a904-be3198d36de0",
   "metadata": {},
   "outputs": [],
   "source": [
    "df[1]"
   ]
  },
  {
   "cell_type": "code",
   "execution_count": null,
   "id": "18002135-0964-403a-8ad1-6ff9e4bee4e3",
   "metadata": {},
   "outputs": [],
   "source": [
    "df.loc[2]"
   ]
  },
  {
   "cell_type": "code",
   "execution_count": null,
   "id": "fb0de200-c1f2-428d-98cd-82a01e8b2363",
   "metadata": {},
   "outputs": [],
   "source": [
    "df['score'][2]"
   ]
  },
  {
   "cell_type": "code",
   "execution_count": null,
   "id": "eced46fe-b89a-446e-be63-a23332c1106d",
   "metadata": {},
   "outputs": [],
   "source": [
    "df['version'] >= '3.0.0'"
   ]
  },
  {
   "cell_type": "code",
   "execution_count": null,
   "id": "e1570336-4160-45ca-8319-a82c345d0192",
   "metadata": {},
   "outputs": [],
   "source": [
    "df['version'][27950]"
   ]
  },
  {
   "cell_type": "code",
   "execution_count": null,
   "id": "70a8f9fb-c72c-4e58-81fb-684f6fab7312",
   "metadata": {},
   "outputs": [],
   "source": [
    "df['version'].unique()"
   ]
  },
  {
   "cell_type": "code",
   "execution_count": null,
   "id": "e200bc44-11fe-472c-8fe0-3e184a8053e2",
   "metadata": {},
   "outputs": [],
   "source": [
    "N = len(df['version'].unique())\n",
    "print('a base tem comentarios de', N, ' versoes do app')"
   ]
  },
  {
   "cell_type": "code",
   "execution_count": null,
   "id": "6f32015f-37f5-4bf9-8d40-51f0d46d9de6",
   "metadata": {},
   "outputs": [],
   "source": [
    "C = (df['version'] == '2.1.0')\n",
    "N = C.value_counts()\n",
    "N"
   ]
  },
  {
   "cell_type": "code",
   "execution_count": null,
   "id": "f38f7a4e-88b5-449c-964e-e81e56a36478",
   "metadata": {},
   "outputs": [],
   "source": [
    "print('a base tem ', N[1], ' comentarios da versao 2.1.0')"
   ]
  },
  {
   "cell_type": "code",
   "execution_count": null,
   "id": "3872ba65-867e-4d36-b923-9f15aaef4426",
   "metadata": {},
   "outputs": [],
   "source": [
    "df['Dates'] = pd.to_datetime(df['date']).dt.date"
   ]
  },
  {
   "cell_type": "code",
   "execution_count": null,
   "id": "a26e1008-34f4-4c0e-bdf7-d5397b527a48",
   "metadata": {},
   "outputs": [],
   "source": [
    "df['Dates']"
   ]
  },
  {
   "cell_type": "code",
   "execution_count": null,
   "id": "9232715f-482c-4481-870e-e3769056e85c",
   "metadata": {},
   "outputs": [],
   "source": [
    "df.head(4)"
   ]
  },
  {
   "cell_type": "code",
   "execution_count": null,
   "id": "9186d857-cd93-4e00-ba11-7dd6223eaccb",
   "metadata": {},
   "outputs": [],
   "source": [
    "df = df.drop('date', 1)"
   ]
  },
  {
   "cell_type": "code",
   "execution_count": null,
   "id": "82b993f2-5af1-495d-b759-3a4da68ea92d",
   "metadata": {},
   "outputs": [],
   "source": [
    "df.head(4)"
   ]
  },
  {
   "cell_type": "code",
   "execution_count": null,
   "id": "107abb25-4be4-4c5f-9eb1-5a91a5f9f24d",
   "metadata": {},
   "outputs": [],
   "source": [
    "min(df['Dates'])"
   ]
  },
  {
   "cell_type": "code",
   "execution_count": null,
   "id": "551862f7-d85a-4069-b3bb-a682dfdf9056",
   "metadata": {},
   "outputs": [],
   "source": [
    "max(df['Dates'])"
   ]
  },
  {
   "cell_type": "code",
   "execution_count": null,
   "id": "70c82fea-f215-4661-b4c5-75eb8cbbaab9",
   "metadata": {},
   "outputs": [],
   "source": [
    "def get_comments(comentarios,minDate,maxDate,versao):\n",
    "\n",
    "\tnova_base = pd.DataFrame()\n",
    "\n",
    "\tfor i in range(0, len(comentarios)):\n",
    "\t\tif comentarios['Dates'][i] > minDate and comentarios['Dates'][i] < maxDate and comentarios['version'][i] == versao:\n",
    "\t\t\tnova_base = nova_base.append(df.loc[i])\n",
    "\treturn nova_base"
   ]
  },
  {
   "cell_type": "code",
   "execution_count": null,
   "id": "51a4d734-43cc-4d0f-bef5-21205562e590",
   "metadata": {},
   "outputs": [],
   "source": [
    "from datetime import datetime"
   ]
  },
  {
   "cell_type": "code",
   "execution_count": null,
   "id": "ae662fcb-44fb-416b-869a-c4006fcbe15b",
   "metadata": {},
   "outputs": [],
   "source": [
    "min_date = '01/10/2021'\n",
    "max_date = '27/10/2021'\n",
    "\n",
    "\n",
    "min_date = datetime.strptime(min_date, '%d/%m/%Y').date()\n",
    "max_date = datetime.strptime(max_date, '%d/%m/%Y').date()"
   ]
  },
  {
   "cell_type": "code",
   "execution_count": null,
   "id": "fbb4b455-7779-485e-809e-10eecf123c37",
   "metadata": {},
   "outputs": [],
   "source": [
    "df2 = get_comments(df, min_date, max_date, '3.0.0')"
   ]
  },
  {
   "cell_type": "code",
   "execution_count": null,
   "id": "ac7ef8f7-ccc6-4863-b2df-8c54a892425b",
   "metadata": {},
   "outputs": [],
   "source": [
    "len(df2)"
   ]
  },
  {
   "cell_type": "code",
   "execution_count": null,
   "id": "c411ad33-d6bd-499a-b114-7aa174dfe8be",
   "metadata": {},
   "outputs": [],
   "source": [
    "df2.head(10)"
   ]
  },
  {
   "cell_type": "code",
   "execution_count": null,
   "id": "87e09711-1ac0-4300-8572-2c857f004baa",
   "metadata": {},
   "outputs": [],
   "source": [
    "comentarios = df2['content']"
   ]
  },
  {
   "cell_type": "code",
   "execution_count": null,
   "id": "0c9fb80f-74c3-4f41-9d83-21a705400d76",
   "metadata": {},
   "outputs": [],
   "source": [
    "type(comentarios)"
   ]
  },
  {
   "cell_type": "code",
   "execution_count": null,
   "id": "ecfc86e9-dc31-497c-b650-5c0aacf4dc6b",
   "metadata": {},
   "outputs": [],
   "source": [
    "import spacy"
   ]
  },
  {
   "cell_type": "code",
   "execution_count": null,
   "id": "4f8b5e00-1565-4ca2-90e3-7ed3daeb5638",
   "metadata": {},
   "outputs": [],
   "source": [
    "#https://machinelearningknowledge.ai/tutorial-on-spacy-part-of-speech-pos-tagging/\n",
    "def processar_comentarios(texts, allowed_postags):\n",
    "    nlp = spacy.load(\"pt_core_news_sm\")\n",
    "    texts_out = []\n",
    "    for text in texts:\n",
    "        doc = nlp(text)\n",
    "        new_text = []\n",
    "        for token in doc:\n",
    "            if token.pos_ in allowed_postags:\n",
    "                new_text.append(token.lemma_)\n",
    "        final = \" \".join(new_text)\n",
    "        texts_out.append(final)\n",
    "    return (texts_out)"
   ]
  },
  {
   "cell_type": "code",
   "execution_count": null,
   "id": "92a67148-3544-4810-8756-886e65397ce6",
   "metadata": {},
   "outputs": [],
   "source": [
    "comentarios_processados = processar_comentarios(comentarios, [\"ADJ\", \"AUX\", \"NOUN\", \"VERB\"])"
   ]
  },
  {
   "cell_type": "code",
   "execution_count": null,
   "id": "4e95f11c-ac92-4885-a7a2-7f623beab349",
   "metadata": {},
   "outputs": [],
   "source": [
    "comentarios_processados"
   ]
  },
  {
   "cell_type": "code",
   "execution_count": null,
   "id": "28ca9206-c80e-44bb-ace1-c1c82855dca9",
   "metadata": {},
   "outputs": [],
   "source": []
  }
 ],
 "metadata": {
  "kernelspec": {
   "display_name": "Python 3 (ipykernel)",
   "language": "python",
   "name": "python3"
  },
  "language_info": {
   "codemirror_mode": {
    "name": "ipython",
    "version": 3
   },
   "file_extension": ".py",
   "mimetype": "text/x-python",
   "name": "python",
   "nbconvert_exporter": "python",
   "pygments_lexer": "ipython3",
   "version": "3.7.10"
  }
 },
 "nbformat": 4,
 "nbformat_minor": 5
}
