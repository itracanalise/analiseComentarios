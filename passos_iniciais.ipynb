{
 "cells": [
  {
   "cell_type": "code",
   "execution_count": null,
   "id": "b64435d9-3aa1-46cf-823f-74519da7eceb",
   "metadata": {},
   "outputs": [],
   "source": [
    "import pandas as pd"
   ]
  },
  {
   "cell_type": "code",
   "execution_count": null,
   "id": "aa4d2213-c20e-403f-a28d-704eacf0bd6a",
   "metadata": {},
   "outputs": [],
   "source": [
    "df = pd.read_csv('./General_Data.csv')"
   ]
  },
  {
   "cell_type": "code",
   "execution_count": null,
   "id": "c1a2d885-b555-44ff-8168-b0ae97012398",
   "metadata": {},
   "outputs": [],
   "source": [
    "len(df)"
   ]
  },
  {
   "cell_type": "code",
   "execution_count": null,
   "id": "a9bac63c-4e6e-435d-9f80-7152e7802a3f",
   "metadata": {},
   "outputs": [],
   "source": [
    "df.head(4)"
   ]
  },
  {
   "cell_type": "code",
   "execution_count": null,
   "id": "97d1781f-7ba1-47a0-a904-be3198d36de0",
   "metadata": {},
   "outputs": [],
   "source": [
    "df[1]"
   ]
  },
  {
   "cell_type": "code",
   "execution_count": null,
   "id": "18002135-0964-403a-8ad1-6ff9e4bee4e3",
   "metadata": {},
   "outputs": [],
   "source": [
    "df.loc[2]"
   ]
  },
  {
   "cell_type": "code",
   "execution_count": null,
   "id": "fb0de200-c1f2-428d-98cd-82a01e8b2363",
   "metadata": {},
   "outputs": [],
   "source": [
    "df['score'][2]"
   ]
  },
  {
   "cell_type": "code",
   "execution_count": null,
   "id": "eced46fe-b89a-446e-be63-a23332c1106d",
   "metadata": {},
   "outputs": [],
   "source": [
    "df['version'] >= '3.0.0'"
   ]
  },
  {
   "cell_type": "code",
   "execution_count": null,
   "id": "e1570336-4160-45ca-8319-a82c345d0192",
   "metadata": {},
   "outputs": [],
   "source": [
    "df['version'][27950]"
   ]
  },
  {
   "cell_type": "code",
   "execution_count": null,
   "id": "70a8f9fb-c72c-4e58-81fb-684f6fab7312",
   "metadata": {},
   "outputs": [],
   "source": [
    "df['version'].unique()"
   ]
  },
  {
   "cell_type": "code",
   "execution_count": null,
   "id": "e200bc44-11fe-472c-8fe0-3e184a8053e2",
   "metadata": {},
   "outputs": [],
   "source": [
    "N = len(df['version'].unique())\n",
    "print('a base tem comentarios de', N, ' versoes do app')"
   ]
  },
  {
   "cell_type": "code",
   "execution_count": null,
   "id": "6f32015f-37f5-4bf9-8d40-51f0d46d9de6",
   "metadata": {},
   "outputs": [],
   "source": [
    "C = (df['version'] == '2.1.0')\n",
    "N = C.value_counts()\n",
    "N"
   ]
  },
  {
   "cell_type": "code",
   "execution_count": null,
   "id": "f38f7a4e-88b5-449c-964e-e81e56a36478",
   "metadata": {},
   "outputs": [],
   "source": [
    "print('a base tem ', N[1], ' comentarios da versao 2.1.0')"
   ]
  },
  {
   "cell_type": "code",
   "execution_count": null,
   "id": "3872ba65-867e-4d36-b923-9f15aaef4426",
   "metadata": {},
   "outputs": [],
   "source": [
    "df['Dates'] = pd.to_datetime(df['date']).dt.date"
   ]
  },
  {
   "cell_type": "code",
   "execution_count": null,
   "id": "a26e1008-34f4-4c0e-bdf7-d5397b527a48",
   "metadata": {},
   "outputs": [],
   "source": [
    "df['Dates']"
   ]
  },
  {
   "cell_type": "code",
   "execution_count": null,
   "id": "9232715f-482c-4481-870e-e3769056e85c",
   "metadata": {},
   "outputs": [],
   "source": [
    "df.head(4)"
   ]
  },
  {
   "cell_type": "code",
   "execution_count": null,
   "id": "9186d857-cd93-4e00-ba11-7dd6223eaccb",
   "metadata": {},
   "outputs": [],
   "source": [
    "df = df.drop('date', 1)"
   ]
  },
  {
   "cell_type": "code",
   "execution_count": null,
   "id": "82b993f2-5af1-495d-b759-3a4da68ea92d",
   "metadata": {},
   "outputs": [],
   "source": [
    "df.head(4)"
   ]
  },
  {
   "cell_type": "code",
   "execution_count": null,
   "id": "107abb25-4be4-4c5f-9eb1-5a91a5f9f24d",
   "metadata": {},
   "outputs": [],
   "source": [
    "min(df['Dates'])"
   ]
  },
  {
   "cell_type": "code",
   "execution_count": null,
   "id": "551862f7-d85a-4069-b3bb-a682dfdf9056",
   "metadata": {},
   "outputs": [],
   "source": [
    "max(df['Dates'])"
   ]
  },
  {
   "cell_type": "code",
   "execution_count": null,
   "id": "70c82fea-f215-4661-b4c5-75eb8cbbaab9",
   "metadata": {},
   "outputs": [],
   "source": [
    "def get_comments(comentarios,minDate,maxDate,versao):\n",
    "\n",
    "\tnova_base = pd.DataFrame()\n",
    "\n",
    "\tfor i in range(0, len(comentarios)):\n",
    "\t\tif comentarios['Dates'][i] > minDate and comentarios['Dates'][i] < maxDate and comentarios['version'][i] == versao:\n",
    "\t\t\tnova_base = nova_base.append(df.loc[i])\n",
    "\treturn nova_base"
   ]
  },
  {
   "cell_type": "code",
   "execution_count": null,
   "id": "51a4d734-43cc-4d0f-bef5-21205562e590",
   "metadata": {},
   "outputs": [],
   "source": [
    "from datetime import datetime"
   ]
  },
  {
   "cell_type": "code",
   "execution_count": null,
   "id": "ae662fcb-44fb-416b-869a-c4006fcbe15b",
   "metadata": {},
   "outputs": [],
   "source": [
    "min_date = '01/10/2021'\n",
    "max_date = '27/10/2021'\n",
    "\n",
    "\n",
    "min_date = datetime.strptime(min_date, '%d/%m/%Y').date()\n",
    "max_date = datetime.strptime(max_date, '%d/%m/%Y').date()"
   ]
  },
  {
   "cell_type": "code",
   "execution_count": null,
   "id": "fbb4b455-7779-485e-809e-10eecf123c37",
   "metadata": {},
   "outputs": [],
   "source": [
    "df2 = get_comments(df, min_date, max_date, '3.0.0')"
   ]
  },
  {
   "cell_type": "code",
   "execution_count": null,
   "id": "ac7ef8f7-ccc6-4863-b2df-8c54a892425b",
   "metadata": {},
   "outputs": [],
   "source": [
    "len(df2)"
   ]
  },
  {
   "cell_type": "code",
   "execution_count": null,
   "id": "c411ad33-d6bd-499a-b114-7aa174dfe8be",
   "metadata": {},
   "outputs": [],
   "source": [
    "df2.head(10)"
   ]
  },
  {
   "cell_type": "code",
   "execution_count": null,
   "id": "87e09711-1ac0-4300-8572-2c857f004baa",
   "metadata": {},
   "outputs": [],
   "source": [
    "comentarios = df2['content']"
   ]
  },
  {
   "cell_type": "code",
   "execution_count": null,
   "id": "0c9fb80f-74c3-4f41-9d83-21a705400d76",
   "metadata": {},
   "outputs": [],
   "source": [
    "type(comentarios)"
   ]
  },
  {
   "cell_type": "code",
   "execution_count": null,
   "id": "ecfc86e9-dc31-497c-b650-5c0aacf4dc6b",
   "metadata": {},
   "outputs": [],
   "source": [
    "import spacy"
   ]
  },
  {
   "cell_type": "code",
   "execution_count": null,
   "id": "4f8b5e00-1565-4ca2-90e3-7ed3daeb5638",
   "metadata": {},
   "outputs": [],
   "source": [
    "#https://machinelearningknowledge.ai/tutorial-on-spacy-part-of-speech-pos-tagging/\n",
    "def processar_comentarios(texts, allowed_postags):\n",
    "    nlp = spacy.load(\"pt_core_news_sm\")\n",
    "    texts_out = []\n",
    "    for text in texts:\n",
    "        doc = nlp(text)\n",
    "        new_text = []\n",
    "        for token in doc:\n",
    "            if token.pos_ in allowed_postags:\n",
    "                new_text.append(token.lemma_)\n",
    "        final = \" \".join(new_text)\n",
    "        texts_out.append(final)\n",
    "    return (texts_out)"
   ]
  },
  {
   "cell_type": "code",
   "execution_count": null,
   "id": "92a67148-3544-4810-8756-886e65397ce6",
   "metadata": {},
   "outputs": [],
   "source": [
    "comentarios_processados = processar_comentarios(comentarios, [\"ADJ\", \"AUX\", \"NOUN\", \"VERB\"])"
   ]
  },
  {
   "cell_type": "code",
   "execution_count": null,
   "id": "4e95f11c-ac92-4885-a7a2-7f623beab349",
   "metadata": {},
   "outputs": [],
   "source": [
    "comentarios_processados[0:4]"
   ]
  },
  {
   "cell_type": "code",
   "execution_count": null,
   "id": "28ca9206-c80e-44bb-ace1-c1c82855dca9",
   "metadata": {},
   "outputs": [],
   "source": [
    "from sklearn.feature_extraction.text import CountVectorizer"
   ]
  },
  {
   "cell_type": "code",
   "execution_count": null,
   "id": "8475680a-4e25-48f9-94e9-4343e1c98574",
   "metadata": {},
   "outputs": [],
   "source": [
    "def extrair_ngrams(corpus, tamMinimo, tamMaximo):\n",
    "    c_vec = CountVectorizer(ngram_range=(tamMinimo,tamMaximo))\n",
    "    ngrams = c_vec.fit_transform(corpus)\n",
    "    count_values = ngrams.toarray().sum(axis=0)\n",
    "    vocab = c_vec.vocabulary_\n",
    "    df_ngram = pd.DataFrame(sorted([(count_values[i],k) for k,i in vocab.items()], reverse=True)\n",
    "            ).rename(columns={0: 'frequency', 1:'ngram'})\n",
    "    \n",
    "    return df_ngram"
   ]
  },
  {
   "cell_type": "code",
   "execution_count": null,
   "id": "5bc4e47b-0c4e-4f80-8288-8c59eba53653",
   "metadata": {},
   "outputs": [],
   "source": [
    "ngrams = extrair_ngrams(comentarios_processados, 2, 3)"
   ]
  },
  {
   "cell_type": "code",
   "execution_count": null,
   "id": "66d0b79b-6fe8-42ef-92c6-918b300d24f3",
   "metadata": {},
   "outputs": [],
   "source": [
    "ngrams"
   ]
  },
  {
   "cell_type": "code",
   "execution_count": null,
   "id": "66d31c2e-88fc-4925-b184-5d473140b43e",
   "metadata": {},
   "outputs": [],
   "source": [
    "!pip install gensim"
   ]
  },
  {
   "cell_type": "code",
   "execution_count": null,
   "id": "469ddb6f-88fc-48af-b7ad-726ec7dbdd10",
   "metadata": {},
   "outputs": [],
   "source": [
    "import gensim\n",
    "import gensim.corpora as corpora"
   ]
  },
  {
   "cell_type": "code",
   "execution_count": null,
   "id": "07db1bd8-37f5-46e1-bfe0-91ae82a3104c",
   "metadata": {},
   "outputs": [],
   "source": [
    "def tokenizar(texts):\n",
    "    final = []\n",
    "    for text in texts:\n",
    "        new = gensim.utils.simple_preprocess(text, deacc=True)\n",
    "        final.append(new)\n",
    "    return (final)"
   ]
  },
  {
   "cell_type": "code",
   "execution_count": null,
   "id": "f7eb9b9a-a709-448c-b0cd-25a7add212c8",
   "metadata": {},
   "outputs": [],
   "source": [
    "data_words = tokenizar(comentarios_processados)\n",
    "print (data_words[1])"
   ]
  },
  {
   "cell_type": "code",
   "execution_count": null,
   "id": "e3df10c5-5d5b-4019-ae10-7c917581c3f7",
   "metadata": {},
   "outputs": [],
   "source": [
    "id2word = corpora.Dictionary(data_words)"
   ]
  },
  {
   "cell_type": "code",
   "execution_count": null,
   "id": "95e30806-ac3c-4995-94e8-fd83c25a5b90",
   "metadata": {},
   "outputs": [],
   "source": [
    "corpus = []\n",
    "for text in data_words:\n",
    "    new = id2word.doc2bow(text)\n",
    "    corpus.append(new)\n",
    "\n",
    "print (corpus[1])"
   ]
  },
  {
   "cell_type": "code",
   "execution_count": null,
   "id": "c60c2fd0-44d0-461e-b2dc-5250c169a2e8",
   "metadata": {},
   "outputs": [],
   "source": [
    "word = id2word[[5][:1][0]]\n",
    "print (word)"
   ]
  },
  {
   "cell_type": "code",
   "execution_count": null,
   "id": "e78be4db-6898-48cd-82f6-faf2a863332a",
   "metadata": {},
   "outputs": [],
   "source": [
    "lda_model = gensim.models.ldamodel.LdaModel(corpus=corpus,\n",
    "                                           id2word=id2word,\n",
    "                                           num_topics=10,\n",
    "                                           random_state=1000,\n",
    "                                           update_every=1,\n",
    "                                           chunksize=100,\n",
    "                                           passes=10,\n",
    "                                           alpha=\"auto\")"
   ]
  },
  {
   "cell_type": "code",
   "execution_count": null,
   "id": "d59c7d69-770b-4027-aa90-eda4ac5ea140",
   "metadata": {},
   "outputs": [],
   "source": [
    "!pip install pyLDAvis\n",
    "import pyLDAvis\n",
    "import pyLDAvis.gensim_models"
   ]
  },
  {
   "cell_type": "code",
   "execution_count": 63,
   "id": "48b2448b-e21f-4de3-acbb-65117cf27a61",
   "metadata": {},
   "outputs": [
    {
     "name": "stderr",
     "output_type": "stream",
     "text": [
      "/srv/conda/envs/notebook/lib/python3.7/site-packages/pyLDAvis/_prepare.py:247: FutureWarning: In a future version of pandas all arguments of DataFrame.drop except for the argument 'labels' will be keyword-only\n",
      "  by='saliency', ascending=False).head(R).drop('saliency', 1)\n"
     ]
    },
    {
     "data": {
      "text/html": [
       "\n",
       "<link rel=\"stylesheet\" type=\"text/css\" href=\"https://cdn.jsdelivr.net/gh/bmabey/pyLDAvis@3.3.1/pyLDAvis/js/ldavis.v1.0.0.css\">\n",
       "\n",
       "\n",
       "<div id=\"ldavis_el801404293328956962788177054\"></div>\n",
       "<script type=\"text/javascript\">\n",
       "\n",
       "var ldavis_el801404293328956962788177054_data = {\"mdsDat\": {\"x\": [-0.39174994937550994, -0.03114216677950812, -0.29692755073054955, 0.12413119087641583, 0.3057227711593922, 0.2815594094193124, 0.12155145246615258, 0.05058580409293585, -0.1213434324772694, -0.04238752865137177], \"y\": [-0.10960193573681108, 0.23813904083559054, 0.3255903540809531, -0.29371390284970744, -0.08724970901667796, 0.2908838771021573, 0.022522209720273637, -0.10642513889778123, -0.24681788448102793, -0.033326910756968975], \"topics\": [1, 2, 3, 4, 5, 6, 7, 8, 9, 10], \"cluster\": [1, 1, 1, 1, 1, 1, 1, 1, 1, 1], \"Freq\": [29.673417127047543, 19.20712145455401, 17.73218690950419, 8.932191743007374, 5.187814373086125, 4.938358101156215, 3.9266290362237966, 3.651245460397459, 3.38114894137074, 3.369886853652551]}, \"tinfo\": {\"Term\": [\"bom\", \"otimo\", \"excelente\", \"aplicativo\", \"ter\", \"ser\", \"top\", \"conseguir\", \"util\", \"pratico\", \"aplicativo\", \"ser\", \"estar\", \"fazer\", \"gostar\", \"parabem\", \"perfazer\", \"funcionar\", \"parabens\", \"reconhecimento\", \"dar\", \"ter\", \"senha\", \"precisar\", \"contar\", \"ajudar\", \"entrar\", \"cadastrar\", \"pedir\", \"reclamar\", \"abrir\", \"conseguir\", \"acesso\", \"bom\", \"app\", \"legal\", \"facil\", \"vidar\", \"mesmo\", \"sistema\", \"foto\", \"errar\", \"achar\", \"util\", \"usar\", \"super\", \"acessar\", \"demorar\", \"trabalhar\", \"celular\", \"dificuldade\", \"carteiro\", \"completar\", \"excelente\", \"segurar\", \"informacao\", \"necessario\", \"plataforma\", \"satisfazer\", \"login\", \"aguardar\", \"logar\", \"etapa\", \"otimo\", \"otima\", \"rapido\", \"show\", \"facilitar\", \"simples\", \"entender\", \"amar\", \"funciona\", \"iniciativo\", \"importante\", \"seguranca\", \"ficar\", \"melhor\", \"populacao\", \"facilitou\", \"tratar\", \"momento\", \"pais\", \"ligar\", \"site\", \"documentar\", \"confiavel\", \"testar\", \"banco\", \"consultar\", \"gerar\", \"atualizar\", \"recomendo\", \"biometria\", \"top\", \"pratico\", \"recomendar\", \"funcional\", \"eficaz\", \"interessante\", \"acessivel\", \"federal\", \"exemplo\", \"mexer\", \"formar\", \"resolver\", \"baixar\", \"principio\", \"complicar\", \"rostir\", \"tempo\", \"perder\", \"assunto\", \"maior\", \"instrucao\"], \"Freq\": [2354.0, 627.0, 390.0, 951.0, 428.0, 551.0, 167.0, 313.0, 184.0, 125.0, 949.4883668764072, 549.8155021924803, 305.59691941281096, 265.02613490311035, 258.1786849142048, 187.75149118408373, 176.2578696776181, 142.3784403341774, 114.44926657687076, 107.25802908450883, 152.11751533812324, 426.92505098618756, 196.16581607798295, 175.72307231659045, 161.79327517044186, 145.7113034961101, 134.22951196019417, 112.52190524883854, 89.42502333470354, 66.02923712273406, 60.31337368138009, 304.8530746987681, 134.10453956459938, 2352.3060534597053, 216.91921007628298, 88.49425982642177, 83.94073073977711, 62.300838484076195, 44.29060717105705, 41.65892452575112, 29.385783462298036, 23.014604154486726, 21.969497250357772, 182.62680376476973, 108.47924451984076, 92.72524774556582, 72.66337403168201, 41.69597543831388, 39.25894193825848, 37.65144189424939, 28.146864453235363, 27.69884450524148, 27.84313070719671, 388.4748599773894, 72.85056523573859, 34.33389235039523, 18.348368127286378, 16.031849745261454, 17.40918785786544, 12.616074165401969, 11.921955979726134, 9.516144660514115, 8.934618644121546, 625.8426498197994, 67.41009353200393, 44.42925509422747, 39.21182165716659, 16.420926435211502, 14.261482046768046, 12.473255718160118, 12.06611763042612, 5.897014130133015, 5.008017523862539, 53.36978378154687, 50.2468298802016, 41.77900607954439, 25.406533861845013, 16.32569194383789, 17.427177827164392, 16.957169931743326, 13.770865357181341, 11.621823214877411, 10.810756482932616, 29.999706101170187, 24.18425786848762, 20.664625928137706, 18.567084025165503, 16.898698951783246, 13.61202729577628, 12.834456011176684, 12.188552988289747, 9.603635768895117, 8.805547212625411, 165.6959194001954, 123.90515406018467, 55.02620228946228, 26.106460268899525, 10.347026533607947, 6.869993097659723, 5.921848075589214, 5.608310175439218, 5.019704477907317, 4.3025433043806895, 53.170329352764355, 39.099255257448036, 29.814981664891473, 23.941147515459242, 20.293389099897087, 18.135498993397125, 16.90040046008473, 16.49273163300281, 8.940518000587936, 8.101133033214817, 8.1130789978869], \"Total\": [2354.0, 627.0, 390.0, 951.0, 428.0, 551.0, 167.0, 313.0, 184.0, 125.0, 951.2479062985371, 551.5750660720497, 307.35655984700713, 266.785624568333, 259.93821415474736, 189.5111208138433, 178.017548029841, 144.13794583976784, 116.20888908292198, 109.01743385931671, 157.59869794138436, 428.56008501503896, 197.7996731789046, 177.35696277458584, 163.42719357353153, 147.34515056866434, 135.86338368274932, 114.15577384938838, 91.0589422547925, 67.67244528653093, 61.947161353647566, 313.83591024585337, 141.66711656315638, 2354.216051961211, 218.8292853664534, 90.40420766925293, 85.85074273449102, 64.21123463552348, 46.20082033014843, 43.56938891780053, 31.2965958871527, 24.925018640277685, 23.88005058821806, 184.42026970814968, 110.27260832985263, 94.51891328163623, 74.45682190784491, 43.4894149315743, 41.05224232525998, 39.44490497392284, 29.940248736876846, 29.492151701504916, 29.667162619946854, 390.38131511474415, 74.7570885842319, 36.24079328411045, 20.25526089496041, 17.97688694810468, 19.910298229440652, 14.522854960333614, 13.832318024071318, 11.423159191665215, 10.841020978150986, 627.8244545380909, 69.39190176100594, 46.4112071126333, 41.19360976722177, 18.40290013243771, 16.245277985648237, 14.461242539636801, 14.047847616549126, 7.879201371990317, 6.991378484593474, 55.25464206051447, 52.13187529816922, 43.66380531073035, 27.291308998236154, 18.211263993519797, 19.457545712169516, 18.959140841374534, 15.655706149630918, 13.507419047673519, 12.69714689401765, 31.834047766250666, 26.027134071630055, 22.498997467263525, 20.40139976753568, 18.733227296306996, 15.451920125967447, 14.671558542371404, 14.023103064096922, 11.53089450318938, 10.639917904533355, 167.6435820624633, 125.85289476684191, 56.973916824538826, 28.05459335496135, 12.295420648305353, 8.817788658569176, 7.870480554220359, 7.556474114822068, 6.968445167714917, 6.2518640428982515, 55.05974984709374, 40.98881328544939, 31.706411494877308, 25.854554271332496, 22.182636957079936, 20.039139091550766, 18.789899442333734, 18.382109863262144, 10.829932802893996, 9.990663556201788, 10.01507264210218], \"Category\": [\"Default\", \"Default\", \"Default\", \"Default\", \"Default\", \"Default\", \"Default\", \"Default\", \"Default\", \"Default\", \"Topic1\", \"Topic1\", \"Topic1\", \"Topic1\", \"Topic1\", \"Topic1\", \"Topic1\", \"Topic1\", \"Topic1\", \"Topic1\", \"Topic1\", \"Topic2\", \"Topic2\", \"Topic2\", \"Topic2\", \"Topic2\", \"Topic2\", \"Topic2\", \"Topic2\", \"Topic2\", \"Topic2\", \"Topic2\", \"Topic2\", \"Topic3\", \"Topic3\", \"Topic3\", \"Topic3\", \"Topic3\", \"Topic3\", \"Topic3\", \"Topic3\", \"Topic3\", \"Topic3\", \"Topic4\", \"Topic4\", \"Topic4\", \"Topic4\", \"Topic4\", \"Topic4\", \"Topic4\", \"Topic4\", \"Topic4\", \"Topic4\", \"Topic5\", \"Topic5\", \"Topic5\", \"Topic5\", \"Topic5\", \"Topic5\", \"Topic5\", \"Topic5\", \"Topic5\", \"Topic5\", \"Topic6\", \"Topic6\", \"Topic6\", \"Topic6\", \"Topic6\", \"Topic6\", \"Topic6\", \"Topic6\", \"Topic6\", \"Topic6\", \"Topic7\", \"Topic7\", \"Topic7\", \"Topic7\", \"Topic7\", \"Topic7\", \"Topic7\", \"Topic7\", \"Topic7\", \"Topic7\", \"Topic8\", \"Topic8\", \"Topic8\", \"Topic8\", \"Topic8\", \"Topic8\", \"Topic8\", \"Topic8\", \"Topic8\", \"Topic8\", \"Topic9\", \"Topic9\", \"Topic9\", \"Topic9\", \"Topic9\", \"Topic9\", \"Topic9\", \"Topic9\", \"Topic9\", \"Topic9\", \"Topic10\", \"Topic10\", \"Topic10\", \"Topic10\", \"Topic10\", \"Topic10\", \"Topic10\", \"Topic10\", \"Topic10\", \"Topic10\", \"Topic10\"], \"logprob\": [10.0, 9.0, 8.0, 7.0, 6.0, 5.0, 4.0, 3.0, 2.0, 1.0, -1.8889, -2.4353, -3.0226, -3.165, -3.1912, -3.5097, -3.5729, -3.7864, -4.0047, -4.0696, -3.7202, -2.2533, -3.0309, -3.141, -3.2236, -3.3283, -3.4103, -3.5867, -3.8165, -4.1198, -4.2103, -2.5901, -3.4113, -0.4668, -2.8505, -3.747, -3.7999, -4.098, -4.4392, -4.5005, -4.8495, -5.0939, -5.1403, -2.3368, -2.8577, -3.0146, -3.2584, -3.8139, -3.8741, -3.9159, -4.2068, -4.2229, -4.2177, -1.0387, -2.7125, -3.4648, -4.0914, -4.2263, -4.1439, -4.4659, -4.5225, -4.7479, -4.811, -0.5125, -2.7408, -3.1577, -3.2827, -4.1531, -4.2941, -4.428, -4.4612, -5.1772, -5.3406, -2.7451, -2.8054, -2.99, -3.4874, -3.9296, -3.8644, -3.8917, -4.0998, -4.2695, -4.3418, -3.2485, -3.464, -3.6212, -3.7283, -3.8224, -4.0387, -4.0975, -4.1492, -4.3875, -4.4743, -1.4627, -1.7533, -2.565, -3.3106, -4.2361, -4.6457, -4.7942, -4.8486, -4.9594, -5.1136, -2.596, -2.9034, -3.1745, -3.3939, -3.5592, -3.6716, -3.7421, -3.7666, -4.3789, -4.4775, -4.476], \"loglift\": [10.0, 9.0, 8.0, 7.0, 6.0, 5.0, 4.0, 3.0, 2.0, 1.0, 1.2131, 1.2117, 1.2092, 1.2083, 1.2081, 1.2056, 1.205, 1.2026, 1.1997, 1.1986, 1.1795, 1.6461, 1.6416, 1.6406, 1.6398, 1.6387, 1.6378, 1.6355, 1.6318, 1.6253, 1.6232, 1.6208, 1.595, 1.729, 1.721, 1.7084, 1.7073, 1.6996, 1.6876, 1.6849, 1.6668, 1.65, 1.6464, 2.4057, 2.3991, 2.3963, 2.3911, 2.3734, 2.3708, 2.369, 2.3537, 2.3528, 2.3521, 2.954, 2.933, 2.9048, 2.86, 2.8443, 2.8246, 2.8181, 2.8102, 2.7762, 2.7655, 3.005, 2.9792, 2.9645, 2.9588, 2.8942, 2.8779, 2.8603, 2.8561, 2.7184, 2.6745, 3.2027, 3.2006, 3.1933, 3.1658, 3.1281, 3.1272, 3.1258, 3.1091, 3.087, 3.0766, 3.2508, 3.2367, 3.2251, 3.2159, 3.207, 3.1833, 3.1763, 3.1699, 3.1272, 3.1209, 3.3753, 3.3714, 3.3522, 3.315, 3.2144, 3.1373, 3.1025, 3.0888, 3.0589, 3.0133, 3.3554, 3.3431, 3.3288, 3.3134, 3.3013, 3.2905, 3.2843, 3.2818, 3.1986, 3.1806, 3.1797]}, \"token.table\": {\"Topic\": [2, 4, 9, 2, 5, 3, 5, 2, 6, 1, 3, 10, 8, 10, 8, 8, 3, 2, 4, 4, 4, 10, 8, 1, 2, 8, 2, 1, 2, 4, 4, 8, 9, 6, 2, 3, 1, 5, 5, 9, 3, 6, 7, 1, 9, 7, 10, 3, 6, 9, 1, 8, 1, 7, 5, 6, 10, 9, 3, 7, 5, 5, 10, 7, 3, 9, 7, 5, 6, 6, 7, 1, 1, 2, 10, 1, 5, 7, 9, 2, 10, 6, 2, 9, 8, 1, 10, 10, 2, 5, 7, 5, 2, 1, 6, 6, 3, 8, 4, 10, 2, 8, 9, 4, 7, 4, 4, 3], \"Freq\": [0.9685673837009012, 0.980434003620944, 0.7623422685140416, 0.9458793490743611, 0.04235280667497139, 0.9212710801732706, 0.8675335528808203, 0.990870750998775, 0.854223389059499, 0.9976368869948066, 0.991640582459564, 0.8310300870560344, 0.8557307141757637, 0.9461808695962642, 0.9074784462446213, 0.8458711881757438, 0.9990586879401467, 0.989875467438789, 0.9494051259261367, 0.9633690339759198, 0.9438044466434438, 0.9016060641797001, 0.9333749217295306, 0.025491028078121925, 0.9718454454783984, 0.9060362651287946, 0.9912670985634384, 0.9644749733689635, 0.02538092035181483, 0.9657522426108116, 0.9351959713518653, 0.9221145875665328, 0.813310929819898, 0.8298042140645394, 0.9862848721102041, 0.9227676148186729, 0.9955863644241646, 0.8301801110927298, 0.993900027940517, 0.7175201755429171, 0.9784423212247007, 0.86942818169174, 0.8736970351490697, 0.9933068936108451, 0.7940211147194913, 0.9618950913945772, 0.9625906428413884, 0.9266183486717334, 0.7614984967041624, 0.9267644578210219, 0.9851673629222905, 0.8860680998856427, 0.9925435582411385, 0.9591954272720615, 0.9381693091940977, 0.7151665456273368, 0.798796003372851, 0.7938498268721105, 0.9734060202369251, 0.8663363582241241, 0.8754145707166886, 0.8951407994851563, 0.8007476135090079, 0.9160425394624991, 0.9523640421442413, 0.639809178919008, 0.894242640107936, 0.8886580179512016, 0.9655305345392617, 0.9970940052989283, 0.8884006602332255, 0.9920262156260071, 0.9809920815838296, 0.9773889065279129, 0.8704115098331042, 0.988666577805561, 0.8900317416574116, 0.8785771270842792, 0.9852772971946762, 0.9923489737681712, 0.9282697256402203, 0.9480468778417754, 0.9752861703245737, 0.9653540262885936, 0.8672354080799245, 0.9814943923380168, 0.9514791201297014, 0.8982421808524429, 0.05022526475878374, 0.8538295008993236, 0.9591061076169634, 0.9764960270991278, 0.9909015361351136, 0.9971444211877337, 0.9467487850757073, 0.8617888848912398, 0.9639795517728883, 0.9423872270432709, 0.9839300598271761, 0.9047414038682356, 0.9963597052791694, 0.9313086462936873, 0.990195973849742, 0.9500090078149711, 0.8966651043016094, 0.9793909986870475, 0.9922987331577093, 0.9655631191632599], \"Term\": [\"abrir\", \"acessar\", \"acessivel\", \"acesso\", \"acesso\", \"achar\", \"aguardar\", \"ajudar\", \"amar\", \"aplicativo\", \"app\", \"assunto\", \"atualizar\", \"baixar\", \"banco\", \"biometria\", \"bom\", \"cadastrar\", \"carteiro\", \"celular\", \"completar\", \"complicar\", \"confiavel\", \"conseguir\", \"conseguir\", \"consultar\", \"contar\", \"dar\", \"dar\", \"demorar\", \"dificuldade\", \"documentar\", \"eficaz\", \"entender\", \"entrar\", \"errar\", \"estar\", \"etapa\", \"excelente\", \"exemplo\", \"facil\", \"facilitar\", \"facilitou\", \"fazer\", \"federal\", \"ficar\", \"formar\", \"foto\", \"funciona\", \"funcional\", \"funcionar\", \"gerar\", \"gostar\", \"importante\", \"informacao\", \"iniciativo\", \"instrucao\", \"interessante\", \"legal\", \"ligar\", \"logar\", \"login\", \"maior\", \"melhor\", \"mesmo\", \"mexer\", \"momento\", \"necessario\", \"otima\", \"otimo\", \"pais\", \"parabem\", \"parabens\", \"pedir\", \"perder\", \"perfazer\", \"plataforma\", \"populacao\", \"pratico\", \"precisar\", \"principio\", \"rapido\", \"reclamar\", \"recomendar\", \"recomendo\", \"reconhecimento\", \"resolver\", \"rostir\", \"satisfazer\", \"satisfazer\", \"seguranca\", \"segurar\", \"senha\", \"ser\", \"show\", \"simples\", \"sistema\", \"site\", \"super\", \"tempo\", \"ter\", \"testar\", \"top\", \"trabalhar\", \"tratar\", \"usar\", \"util\", \"vidar\"]}, \"R\": 10, \"lambda.step\": 0.01, \"plot.opts\": {\"xlab\": \"PC1\", \"ylab\": \"PC2\"}, \"topic.order\": [3, 7, 10, 5, 4, 9, 6, 2, 1, 8]};\n",
       "\n",
       "function LDAvis_load_lib(url, callback){\n",
       "  var s = document.createElement('script');\n",
       "  s.src = url;\n",
       "  s.async = true;\n",
       "  s.onreadystatechange = s.onload = callback;\n",
       "  s.onerror = function(){console.warn(\"failed to load library \" + url);};\n",
       "  document.getElementsByTagName(\"head\")[0].appendChild(s);\n",
       "}\n",
       "\n",
       "if(typeof(LDAvis) !== \"undefined\"){\n",
       "   // already loaded: just create the visualization\n",
       "   !function(LDAvis){\n",
       "       new LDAvis(\"#\" + \"ldavis_el801404293328956962788177054\", ldavis_el801404293328956962788177054_data);\n",
       "   }(LDAvis);\n",
       "}else if(typeof define === \"function\" && define.amd){\n",
       "   // require.js is available: use it to load d3/LDAvis\n",
       "   require.config({paths: {d3: \"https://d3js.org/d3.v5\"}});\n",
       "   require([\"d3\"], function(d3){\n",
       "      window.d3 = d3;\n",
       "      LDAvis_load_lib(\"https://cdn.jsdelivr.net/gh/bmabey/pyLDAvis@3.3.1/pyLDAvis/js/ldavis.v3.0.0.js\", function(){\n",
       "        new LDAvis(\"#\" + \"ldavis_el801404293328956962788177054\", ldavis_el801404293328956962788177054_data);\n",
       "      });\n",
       "    });\n",
       "}else{\n",
       "    // require.js not available: dynamically load d3 & LDAvis\n",
       "    LDAvis_load_lib(\"https://d3js.org/d3.v5.js\", function(){\n",
       "         LDAvis_load_lib(\"https://cdn.jsdelivr.net/gh/bmabey/pyLDAvis@3.3.1/pyLDAvis/js/ldavis.v3.0.0.js\", function(){\n",
       "                 new LDAvis(\"#\" + \"ldavis_el801404293328956962788177054\", ldavis_el801404293328956962788177054_data);\n",
       "            })\n",
       "         });\n",
       "}\n",
       "</script>"
      ],
      "text/plain": [
       "PreparedData(topic_coordinates=              x         y  topics  cluster       Freq\n",
       "topic                                                \n",
       "2     -0.391750 -0.109602       1        1  29.673417\n",
       "6     -0.031142  0.238139       2        1  19.207121\n",
       "9     -0.296928  0.325590       3        1  17.732187\n",
       "4      0.124131 -0.293714       4        1   8.932192\n",
       "3      0.305723 -0.087250       5        1   5.187814\n",
       "8      0.281559  0.290884       6        1   4.938358\n",
       "5      0.121551  0.022522       7        1   3.926629\n",
       "1      0.050586 -0.106425       8        1   3.651245\n",
       "0     -0.121343 -0.246818       9        1   3.381149\n",
       "7     -0.042388 -0.033327      10        1   3.369887, topic_info=            Term         Freq        Total Category  logprob  loglift\n",
       "0            bom  2354.000000  2354.000000  Default  10.0000  10.0000\n",
       "66         otimo   627.000000   627.000000  Default   9.0000   9.0000\n",
       "1941   excelente   390.000000   390.000000  Default   8.0000   8.0000\n",
       "24    aplicativo   951.000000   951.000000  Default   7.0000   7.0000\n",
       "13           ter   428.000000   428.000000  Default   6.0000   6.0000\n",
       "...          ...          ...          ...      ...      ...      ...\n",
       "182        tempo    16.900400    18.789899  Topic10  -3.7421   3.2843\n",
       "181       perder    16.492732    18.382110  Topic10  -3.7666   3.2818\n",
       "1439     assunto     8.940518    10.829933  Topic10  -4.3789   3.1986\n",
       "1152       maior     8.101133     9.990664  Topic10  -4.4775   3.1806\n",
       "1633   instrucao     8.113079    10.015073  Topic10  -4.4760   3.1797\n",
       "\n",
       "[114 rows x 6 columns], token_table=      Topic      Freq       Term\n",
       "term                            \n",
       "179       2  0.968567      abrir\n",
       "1         4  0.980434    acessar\n",
       "416       9  0.762342  acessivel\n",
       "14        2  0.945879     acesso\n",
       "14        5  0.042353     acesso\n",
       "...     ...       ...        ...\n",
       "518       4  0.950009  trabalhar\n",
       "206       7  0.896665     tratar\n",
       "151       4  0.979391       usar\n",
       "886       4  0.992299       util\n",
       "148       3  0.965563      vidar\n",
       "\n",
       "[108 rows x 3 columns], R=10, lambda_step=0.01, plot_opts={'xlab': 'PC1', 'ylab': 'PC2'}, topic_order=[3, 7, 10, 5, 4, 9, 6, 2, 1, 8])"
      ]
     },
     "execution_count": 63,
     "metadata": {},
     "output_type": "execute_result"
    }
   ],
   "source": [
    "pyLDAvis.enable_notebook()\n",
    "vis = pyLDAvis.gensim_models.prepare(lda_model, corpus, id2word, mds=\"mmds\", R=10)\n",
    "vis"
   ]
  },
  {
   "cell_type": "code",
   "execution_count": null,
   "id": "edb24a12-ae04-42f4-9366-56969091fca9",
   "metadata": {},
   "outputs": [],
   "source": []
  }
 ],
 "metadata": {
  "kernelspec": {
   "display_name": "Python 3 (ipykernel)",
   "language": "python",
   "name": "python3"
  },
  "language_info": {
   "codemirror_mode": {
    "name": "ipython",
    "version": 3
   },
   "file_extension": ".py",
   "mimetype": "text/x-python",
   "name": "python",
   "nbconvert_exporter": "python",
   "pygments_lexer": "ipython3",
   "version": "3.7.12"
  }
 },
 "nbformat": 4,
 "nbformat_minor": 5
}
